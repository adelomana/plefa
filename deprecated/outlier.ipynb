{
 "cells": [
  {
   "cell_type": "code",
   "execution_count": 1,
   "id": "1fcb1491",
   "metadata": {},
   "outputs": [],
   "source": [
    "import pandas, numpy\n",
    "\n",
    "import matplotlib, matplotlib.pyplot\n",
    "matplotlib.rcParams.update({'font.size':20, 'font.family':'FreeSans', 'xtick.labelsize':20, 'ytick.labelsize':20, 'figure.figsize':(8, 4)})"
   ]
  },
  {
   "cell_type": "markdown",
   "id": "02d669e5",
   "metadata": {},
   "source": [
    "# 0. user-defined variables"
   ]
  },
  {
   "cell_type": "code",
   "execution_count": 2,
   "id": "50d9612e",
   "metadata": {},
   "outputs": [],
   "source": [
    "input_file = '/Users/adrian/gd15/hi/research/plefa/data/outliers/ALL Results.xlsx'\n",
    "log_file = '/Users/adrian/gd15/hi/research/plefa/results/outliers/log.txt'\n",
    "output_file = ''"
   ]
  },
  {
   "cell_type": "code",
   "execution_count": 3,
   "id": "f00f15ac",
   "metadata": {},
   "outputs": [],
   "source": [
    "log = open(log_file, 'w')"
   ]
  },
  {
   "cell_type": "code",
   "execution_count": 4,
   "id": "004f7968",
   "metadata": {},
   "outputs": [
    {
     "name": "stdout",
     "output_type": "stream",
     "text": [
      "1.0333247059490713e-05\n",
      "-16.562346804887277\n"
     ]
    }
   ],
   "source": [
    "epsilon = 2.0666494118981427e-05/2\n",
    "print(epsilon)\n",
    "print(numpy.log2(epsilon))"
   ]
  },
  {
   "cell_type": "markdown",
   "id": "65604bc5",
   "metadata": {},
   "source": [
    "# 1. read data"
   ]
  },
  {
   "cell_type": "code",
   "execution_count": 5,
   "id": "19ab9f17",
   "metadata": {},
   "outputs": [
    {
     "name": "stdout",
     "output_type": "stream",
     "text": [
      "(162, 42)\n"
     ]
    },
    {
     "data": {
      "text/html": [
       "<div>\n",
       "<style scoped>\n",
       "    .dataframe tbody tr th:only-of-type {\n",
       "        vertical-align: middle;\n",
       "    }\n",
       "\n",
       "    .dataframe tbody tr th {\n",
       "        vertical-align: top;\n",
       "    }\n",
       "\n",
       "    .dataframe thead th {\n",
       "        text-align: right;\n",
       "    }\n",
       "</style>\n",
       "<table border=\"1\" class=\"dataframe\">\n",
       "  <thead>\n",
       "    <tr style=\"text-align: right;\">\n",
       "      <th></th>\n",
       "      <th>Group</th>\n",
       "      <th>DAY</th>\n",
       "      <th>EPA</th>\n",
       "      <th>18-HEPE</th>\n",
       "      <th>5-HEPE</th>\n",
       "      <th>15-HEPE</th>\n",
       "      <th>12-HEPE</th>\n",
       "      <th>DHA</th>\n",
       "      <th>17-HDHA</th>\n",
       "      <th>10-HDHA</th>\n",
       "      <th>...</th>\n",
       "      <th>6-trans-LTB4</th>\n",
       "      <th>6t,12epi-LTB4</th>\n",
       "      <th>12-KETE</th>\n",
       "      <th>15-KETE</th>\n",
       "      <th>5-KETE</th>\n",
       "      <th>11(12)EET</th>\n",
       "      <th>13-HoDE</th>\n",
       "      <th>13-HoTrE</th>\n",
       "      <th>9-HoDE</th>\n",
       "      <th>9-HoTrE</th>\n",
       "    </tr>\n",
       "  </thead>\n",
       "  <tbody>\n",
       "    <tr>\n",
       "      <th>0</th>\n",
       "      <td>Control</td>\n",
       "      <td>D00</td>\n",
       "      <td>0.007358</td>\n",
       "      <td>0.002937</td>\n",
       "      <td>0.001037</td>\n",
       "      <td>0.000891</td>\n",
       "      <td>0.002772</td>\n",
       "      <td>0.006285</td>\n",
       "      <td>0.001012</td>\n",
       "      <td>0.002821</td>\n",
       "      <td>...</td>\n",
       "      <td>0.000511</td>\n",
       "      <td>0.000444</td>\n",
       "      <td>0.003095</td>\n",
       "      <td>0.004943</td>\n",
       "      <td>0.007140</td>\n",
       "      <td>0.009245</td>\n",
       "      <td>0.002516</td>\n",
       "      <td>0.004890</td>\n",
       "      <td>0.014699</td>\n",
       "      <td>0.020712</td>\n",
       "    </tr>\n",
       "    <tr>\n",
       "      <th>1</th>\n",
       "      <td>Control</td>\n",
       "      <td>D00</td>\n",
       "      <td>0.025620</td>\n",
       "      <td>0.005006</td>\n",
       "      <td>0.001309</td>\n",
       "      <td>0.000766</td>\n",
       "      <td>0.001021</td>\n",
       "      <td>0.009492</td>\n",
       "      <td>0.000192</td>\n",
       "      <td>0.001597</td>\n",
       "      <td>...</td>\n",
       "      <td>0.000406</td>\n",
       "      <td>0.000160</td>\n",
       "      <td>0.006190</td>\n",
       "      <td>0.008074</td>\n",
       "      <td>0.009528</td>\n",
       "      <td>0.010066</td>\n",
       "      <td>0.000726</td>\n",
       "      <td>0.000628</td>\n",
       "      <td>0.009040</td>\n",
       "      <td>0.011891</td>\n",
       "    </tr>\n",
       "    <tr>\n",
       "      <th>2</th>\n",
       "      <td>Control</td>\n",
       "      <td>D00</td>\n",
       "      <td>0.011362</td>\n",
       "      <td>0.007127</td>\n",
       "      <td>0.002218</td>\n",
       "      <td>0.000477</td>\n",
       "      <td>0.013195</td>\n",
       "      <td>0.009212</td>\n",
       "      <td>0.000773</td>\n",
       "      <td>0.004575</td>\n",
       "      <td>...</td>\n",
       "      <td>0.001826</td>\n",
       "      <td>0.002195</td>\n",
       "      <td>0.005997</td>\n",
       "      <td>0.009762</td>\n",
       "      <td>0.016034</td>\n",
       "      <td>0.005500</td>\n",
       "      <td>0.006931</td>\n",
       "      <td>0.010644</td>\n",
       "      <td>0.039511</td>\n",
       "      <td>0.040952</td>\n",
       "    </tr>\n",
       "    <tr>\n",
       "      <th>3</th>\n",
       "      <td>Control</td>\n",
       "      <td>D00</td>\n",
       "      <td>0.007132</td>\n",
       "      <td>0.065238</td>\n",
       "      <td>0.020250</td>\n",
       "      <td>0.012612</td>\n",
       "      <td>0.020570</td>\n",
       "      <td>0.004484</td>\n",
       "      <td>0.009446</td>\n",
       "      <td>0.053498</td>\n",
       "      <td>...</td>\n",
       "      <td>0.020726</td>\n",
       "      <td>0.021358</td>\n",
       "      <td>0.009305</td>\n",
       "      <td>0.028514</td>\n",
       "      <td>0.040523</td>\n",
       "      <td>0.011607</td>\n",
       "      <td>0.076879</td>\n",
       "      <td>0.151278</td>\n",
       "      <td>0.409499</td>\n",
       "      <td>0.550954</td>\n",
       "    </tr>\n",
       "    <tr>\n",
       "      <th>4</th>\n",
       "      <td>K-K</td>\n",
       "      <td>D07</td>\n",
       "      <td>0.039052</td>\n",
       "      <td>0.073206</td>\n",
       "      <td>0.017588</td>\n",
       "      <td>0.072260</td>\n",
       "      <td>0.200565</td>\n",
       "      <td>0.101139</td>\n",
       "      <td>0.016898</td>\n",
       "      <td>0.099561</td>\n",
       "      <td>...</td>\n",
       "      <td>0.003958</td>\n",
       "      <td>0.003893</td>\n",
       "      <td>0.067953</td>\n",
       "      <td>0.019411</td>\n",
       "      <td>0.019748</td>\n",
       "      <td>0.037816</td>\n",
       "      <td>0.028164</td>\n",
       "      <td>0.078593</td>\n",
       "      <td>0.069416</td>\n",
       "      <td>0.101605</td>\n",
       "    </tr>\n",
       "  </tbody>\n",
       "</table>\n",
       "<p>5 rows × 42 columns</p>\n",
       "</div>"
      ],
      "text/plain": [
       "     Group  DAY       EPA   18-HEPE    5-HEPE   15-HEPE   12-HEPE       DHA  \\\n",
       "0  Control  D00  0.007358  0.002937  0.001037  0.000891  0.002772  0.006285   \n",
       "1  Control  D00  0.025620  0.005006  0.001309  0.000766  0.001021  0.009492   \n",
       "2  Control  D00  0.011362  0.007127  0.002218  0.000477  0.013195  0.009212   \n",
       "3  Control  D00  0.007132  0.065238  0.020250  0.012612  0.020570  0.004484   \n",
       "4      K-K  D07  0.039052  0.073206  0.017588  0.072260  0.200565  0.101139   \n",
       "\n",
       "    17-HDHA   10-HDHA  ...  6-trans-LTB4  6t,12epi-LTB4   12-KETE   15-KETE  \\\n",
       "0  0.001012  0.002821  ...      0.000511       0.000444  0.003095  0.004943   \n",
       "1  0.000192  0.001597  ...      0.000406       0.000160  0.006190  0.008074   \n",
       "2  0.000773  0.004575  ...      0.001826       0.002195  0.005997  0.009762   \n",
       "3  0.009446  0.053498  ...      0.020726       0.021358  0.009305  0.028514   \n",
       "4  0.016898  0.099561  ...      0.003958       0.003893  0.067953  0.019411   \n",
       "\n",
       "     5-KETE  11(12)EET   13-HoDE  13-HoTrE    9-HoDE   9-HoTrE  \n",
       "0  0.007140   0.009245  0.002516  0.004890  0.014699  0.020712  \n",
       "1  0.009528   0.010066  0.000726  0.000628  0.009040  0.011891  \n",
       "2  0.016034   0.005500  0.006931  0.010644  0.039511  0.040952  \n",
       "3  0.040523   0.011607  0.076879  0.151278  0.409499  0.550954  \n",
       "4  0.019748   0.037816  0.028164  0.078593  0.069416  0.101605  \n",
       "\n",
       "[5 rows x 42 columns]"
      ]
     },
     "execution_count": 5,
     "metadata": {},
     "output_type": "execute_result"
    }
   ],
   "source": [
    "df = pandas.read_excel(input_file)\n",
    "print(df.shape)\n",
    "df.head()"
   ]
  },
  {
   "cell_type": "code",
   "execution_count": 6,
   "id": "291c934b",
   "metadata": {},
   "outputs": [
    {
     "name": "stdout",
     "output_type": "stream",
     "text": [
      "['D28', 'D07', 'D21', 'D60', 'D14']\n",
      "[['Primatrix', 'K-K'], ['CS-STGS', 'K-STSG']]\n"
     ]
    }
   ],
   "source": [
    "# define working data\n",
    "treatments = list(set(df['Group'].values))\n",
    "excluding_treatments = ['Blue (CS-STSG)', 'Blue (K-STSG)', 'Control']\n",
    "for excluding in excluding_treatments:\n",
    "    treatments.remove(excluding)\n",
    "\n",
    "contrasts = [[treatments[0], treatments[2]], [treatments[1], treatments[3]]]\n",
    "\n",
    "days = list(set(df['DAY'].values))\n",
    "days.remove('D00')\n",
    "\n",
    "metabolites = list(df.columns.values[2:])\n",
    "\n",
    "print(days)\n",
    "print(contrasts)"
   ]
  },
  {
   "cell_type": "markdown",
   "id": "7342f2e5",
   "metadata": {},
   "source": [
    "# 2. boxplots and statistical test"
   ]
  },
  {
   "cell_type": "code",
   "execution_count": 7,
   "id": "1b3a7468",
   "metadata": {},
   "outputs": [
    {
     "data": {
      "text/plain": [
       "(10,)"
      ]
     },
     "execution_count": 7,
     "metadata": {},
     "output_type": "execute_result"
    }
   ],
   "source": [
    "a =  numpy.array([0, 1, 2, 3, 4, 5, 6, 7, 8, 9])\n",
    "a[(a > 3) & (a < 7)]\n",
    "a.shape"
   ]
  },
  {
   "cell_type": "code",
   "execution_count": 8,
   "id": "a3aaa310",
   "metadata": {},
   "outputs": [],
   "source": [
    "def outlier_remover(values):\n",
    "    \n",
    "    q1 = numpy.percentile(values, 25)\n",
    "    q3 = numpy.percentile(values, 75)\n",
    "    iqr = q3 - q1\n",
    "    \n",
    "    lowerb = q1 - 1.5*iqr\n",
    "    upperb = q3 + 1.5*iqr\n",
    "    \n",
    "    if iqr > 0:\n",
    "        wo = values[values < upperb]\n",
    "    else:\n",
    "        wo = values\n",
    "    \n",
    "    if values.shape != wo.shape:\n",
    "        log.write('REMOVING OUTLIERS | {} \\t {}\\n'.format(values.shape, values))\n",
    "        log.write('REMOVING OUTLIERS | q1, q3, iqr, lb, up: {} {} {} {} {}\\n'.format(q1, q3, iqr, lowerb, upperb))\n",
    "        log.write('REMOVING OUTLIERS | {} \\t {}\\n'.format(wo.shape, wo))\n",
    "        log.write('REMOVING OUTLIERS\\n')\n",
    "    \n",
    "    return wo"
   ]
  },
  {
   "cell_type": "code",
   "execution_count": 9,
   "id": "f384a300",
   "metadata": {},
   "outputs": [],
   "source": [
    "all_values = []\n",
    "\n",
    "for contrast in contrasts:\n",
    "    for day in days:\n",
    "        for metabolite in metabolites:\n",
    "            condition1 = contrast[0]\n",
    "            condition2 = contrast[1]\n",
    "            \n",
    "            log.write('{} \\t {} \\t {} \\t {} \\n'.format(condition1, condition2, day, metabolite))\n",
    "            \n",
    "            # get values\n",
    "            values1 = df[(df['DAY'] == day) & ((df['Group'] == condition1))][metabolite].values\n",
    "            values2 = df[(df['DAY'] == day) & ((df['Group'] == condition2))][metabolite].values\n",
    "            \n",
    "            # format values\n",
    "            formatted_values1 = []; formatted_values2 = []\n",
    "            for element in values1:\n",
    "                if numpy.isnan(element) == False:\n",
    "                    formatted_values1.append(float(element))\n",
    "            for element in values2:\n",
    "                if numpy.isnan(element) == False:\n",
    "                    formatted_values2.append(float(element))\n",
    "            \n",
    "            for element in list(formatted_values1):\n",
    "                all_values.append(element)\n",
    "            for element in list(formatted_values2):\n",
    "                all_values.append(element)\n",
    "                \n",
    "            testing_values1 = numpy.log2(numpy.array(formatted_values1) + epsilon)\n",
    "            testing_values2 = numpy.log2(numpy.array(formatted_values2) + epsilon)\n",
    "            \n",
    "            log.write('{}\\n'.format(formatted_values1))\n",
    "            log.write('{}\\n'.format(formatted_values2))\n",
    "            log.write('\\n')\n",
    "            log.write('{}\\n'.format(testing_values1))\n",
    "            log.write('{}\\n'.format(testing_values2))\n",
    "            \n",
    "            if len(testing_values1) < 6:\n",
    "                warning = '\\t WARNING: Metabolite {} in day {} in condition {} has {} values measured.\\n'.format(metabolite, day, condition1, len(testing_values1))\n",
    "                log.write(warning)\n",
    "            if len(testing_values2) < 6:\n",
    "                warning = '\\t WARNING: Metabolite {} in day {} in condition {} has {} values measured.\\n'.format(metabolite, day, condition2, len(testing_values2))\n",
    "                log.write(warning)\n",
    "            \n",
    "            #\n",
    "            # detect outliers\n",
    "            #\n",
    "            values1_wo = outlier_remover(testing_values1)\n",
    "            values2_wo = outlier_remover(testing_values2)\n",
    "            \n",
    "            # run boxplots\n",
    "            \n",
    "            # run tests\n",
    "            \n",
    "            log.write('\\n')"
   ]
  },
  {
   "cell_type": "code",
   "execution_count": 10,
   "id": "70308dc1",
   "metadata": {},
   "outputs": [],
   "source": [
    "for element in all_values:\n",
    "    if type(element) != float:\n",
    "        print(type(element), element)"
   ]
  },
  {
   "cell_type": "code",
   "execution_count": 11,
   "id": "22911aac",
   "metadata": {},
   "outputs": [],
   "source": [
    "all_values.sort()"
   ]
  },
  {
   "cell_type": "code",
   "execution_count": 12,
   "id": "c5d808e2",
   "metadata": {},
   "outputs": [
    {
     "name": "stdout",
     "output_type": "stream",
     "text": [
      "[0.0, 0.0, 0.0, 0.0, 0.0, 0.0, 0.0, 0.0, 0.0, 0.0, 0.0, 0.0, 0.0, 0.0, 0.0, 0.0, 0.0, 0.0, 0.0, 0.0, 0.0, 0.0, 0.0, 0.0, 0.0, 0.0, 0.0, 0.0, 0.0, 0.0, 0.0, 0.0, 0.0, 0.0, 0.0, 0.0, 0.0, 0.0, 0.0, 0.0, 0.0, 0.0, 0.0, 0.0, 0.0, 0.0, 0.0, 0.0, 0.0, 0.0, 0.0, 0.0, 0.0, 0.0, 0.0, 0.0, 0.0, 0.0, 0.0, 0.0, 0.0, 0.0, 0.0, 0.0, 0.0, 0.0, 0.0, 0.0, 0.0, 0.0, 0.0, 0.0, 0.0, 0.0, 0.0, 0.0, 0.0, 0.0, 0.0, 0.0, 0.0, 0.0, 0.0, 0.0, 0.0, 0.0, 0.0, 0.0, 0.0, 0.0, 0.0, 0.0, 0.0, 0.0, 0.0, 0.0, 0.0, 0.0, 0.0, 0.0, 0.0, 0.0, 0.0, 0.0, 0.0, 0.0, 0.0, 0.0, 0.0, 0.0, 0.0, 0.0, 0.0, 0.0, 0.0, 0.0, 0.0, 0.0, 0.0, 0.0, 0.0, 0.0, 0.0, 0.0, 0.0, 0.0, 0.0, 0.0, 0.0, 0.0, 0.0, 0.0, 0.0, 0.0, 0.0, 0.0, 0.0, 0.0, 0.0, 0.0, 0.0, 0.0, 0.0, 0.0, 0.0, 0.0, 0.0, 0.0, 0.0, 0.0, 0.0, 0.0, 0.0, 0.0, 0.0, 0.0, 0.0, 0.0, 0.0, 0.0, 0.0, 0.0, 0.0, 0.0, 0.0, 0.0, 0.0, 0.0, 0.0, 0.0, 0.0, 0.0, 0.0, 0.0, 0.0, 0.0, 0.0, 0.0, 0.0, 0.0, 0.0, 0.0, 0.0, 0.0, 0.0, 0.0, 0.0, 0.0, 0.0, 0.0, 0.0, 0.0, 0.0, 0.0, 0.0, 0.0, 0.0, 0.0, 0.0, 0.0, 0.0, 0.0, 0.0, 0.0, 0.0, 0.0, 0.0, 0.0, 0.0, 0.0, 0.0, 0.0, 0.0, 0.0, 0.0, 0.0, 0.0, 0.0, 0.0, 0.0, 0.0, 0.0, 0.0, 0.0, 0.0, 0.0, 0.0, 0.0, 0.0, 0.0, 0.0, 0.0, 0.0, 0.0, 0.0, 0.0, 0.0, 0.0, 0.0, 0.0, 0.0, 0.0, 0.0, 0.0, 0.0, 0.0, 0.0, 0.0, 0.0, 0.0, 0.0, 0.0, 0.0, 0.0, 0.0, 0.0, 0.0, 2.0666494118981427e-05, 7.088080261497097e-05, 9.822755770750372e-05, 0.00012837142574106855, 0.00013357247641926899, 0.00014407074477552431, 0.00014618879299908605, 0.00014796631817713343, 0.00015447662995604435, 0.00016860124795050843, 0.0001990353772805196, 0.00021045017310860419, 0.00021256325376680724, 0.0002160835927774075, 0.00021723879459323897, 0.00022518338027296083, 0.00024399697495550217, 0.0002532423650524792, 0.000261978461420502, 0.0002747104031082668, 0.00027877723547375987, 0.0002851440670474977, 0.00029580657608711705, 0.00030144194675067775, 0.0003046193503983662, 0.0003078452394174465, 0.0003323271218991824, 0.0003323778388902203, 0.0003483286296627011, 0.00034887365384831813, 0.000361887046050608, 0.0003653650480496635, 0.00036671187554964497, 0.000374163385458432, 0.0003778212228466995, 0.00038913065508252795, 0.00040269991028518194, 0.0004045984466486535, 0.00041073276479556344, 0.000419260818400585, 0.00042316268563085546, 0.00042316268563085546, 0.00042600883456875196]\n"
     ]
    }
   ],
   "source": [
    "print(all_values[:300])"
   ]
  },
  {
   "cell_type": "code",
   "execution_count": 13,
   "id": "0c407448",
   "metadata": {},
   "outputs": [
    {
     "name": "stderr",
     "output_type": "stream",
     "text": [
      "findfont: Font family ['FreeSans'] not found. Falling back to DejaVu Sans.\n"
     ]
    },
    {
     "data": {
      "image/png": "[encoded data removed]",
      "text/plain": [
       "<Figure size 648x432 with 1 Axes>"
      ]
     },
     "metadata": {
      "needs_background": "light"
     },
     "output_type": "display_data"
    }
   ],
   "source": [
    "matplotlib.pyplot.figure(figsize=(9, 6))\n",
    "tempo = matplotlib.pyplot.hist(all_values, bins='auto', density=True, alpha=2/3)\n",
    "matplotlib.pyplot.xlabel('Intensity')\n",
    "matplotlib.pyplot.ylabel('PDF')\n",
    "matplotlib.pyplot.grid(0.5, ls=':')\n",
    "matplotlib.pyplot.tight_layout()"
   ]
  },
  {
   "cell_type": "code",
   "execution_count": 14,
   "id": "2f579105",
   "metadata": {},
   "outputs": [
    {
     "data": {
      "image/png": "[encoded data removed]",
      "text/plain": [
       "<Figure size 648x432 with 1 Axes>"
      ]
     },
     "metadata": {
      "needs_background": "light"
     },
     "output_type": "display_data"
    }
   ],
   "source": [
    "matplotlib.pyplot.figure(figsize=(9, 6))\n",
    "tempo = matplotlib.pyplot.hist(numpy.log2(numpy.array(all_values)+epsilon), bins='auto', density=True, alpha=2/3)\n",
    "matplotlib.pyplot.xlabel('log2 (Intensity + e)')\n",
    "matplotlib.pyplot.ylabel('PDF')\n",
    "matplotlib.pyplot.grid(0.5, ls=':')\n",
    "matplotlib.pyplot.tight_layout()"
   ]
  },
  {
   "cell_type": "code",
   "execution_count": 15,
   "id": "729414fd",
   "metadata": {},
   "outputs": [],
   "source": [
    "log.close()"
   ]
  }
 ],
 "metadata": {
  "kernelspec": {
   "display_name": "Python 3",
   "language": "python",
   "name": "python3"
  },
  "language_info": {
   "codemirror_mode": {
    "name": "ipython",
    "version": 3
   },
   "file_extension": ".py",
   "mimetype": "text/x-python",
   "name": "python",
   "nbconvert_exporter": "python",
   "pygments_lexer": "ipython3",
   "version": "3.8.10"
  }
 },
 "nbformat": 4,
 "nbformat_minor": 5
}
